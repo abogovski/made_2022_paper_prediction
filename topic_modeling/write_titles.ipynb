{
 "cells": [
  {
   "cell_type": "code",
   "execution_count": 1,
   "id": "388aeea6",
   "metadata": {},
   "outputs": [],
   "source": [
    "import pandas as pd\n",
    "from tqdm import tqdm"
   ]
  },
  {
   "cell_type": "code",
   "execution_count": 2,
   "id": "6c29255f",
   "metadata": {},
   "outputs": [],
   "source": [
    "df = pd.DataFrame(columns=['_id', 'title'])"
   ]
  },
  {
   "cell_type": "code",
   "execution_count": 3,
   "id": "bac95b52",
   "metadata": {},
   "outputs": [
    {
     "name": "stderr",
     "output_type": "stream",
     "text": [
      "100%|████████████████████████████████████████████████████████████████████████████████████| 6/6 [02:16<00:00, 22.68s/it]\n"
     ]
    }
   ],
   "source": [
    "for batch in tqdm(pd.read_csv('../dataset.csv', delimiter='|', usecols=['_id', 'title'], chunksize=1_000_000), total=6):\n",
    "    batch.dropna(subset=['title'], inplace=True)\n",
    "    df = pd.concat([df, batch])"
   ]
  },
  {
   "cell_type": "code",
   "execution_count": 7,
   "id": "a1f345bc",
   "metadata": {},
   "outputs": [],
   "source": [
    "df.drop_duplicates(subset=['title'], inplace=True)"
   ]
  },
  {
   "cell_type": "code",
   "execution_count": 8,
   "id": "3c925b17",
   "metadata": {},
   "outputs": [],
   "source": [
    "df.to_csv('titles.csv', sep='|', index=False)"
   ]
  },
  {
   "cell_type": "code",
   "execution_count": null,
   "id": "43f794cc",
   "metadata": {},
   "outputs": [],
   "source": []
  }
 ],
 "metadata": {
  "kernelspec": {
   "display_name": "Python 3 (ipykernel)",
   "language": "python",
   "name": "python3"
  },
  "language_info": {
   "codemirror_mode": {
    "name": "ipython",
    "version": 3
   },
   "file_extension": ".py",
   "mimetype": "text/x-python",
   "name": "python",
   "nbconvert_exporter": "python",
   "pygments_lexer": "ipython3",
   "version": "3.10.7"
  }
 },
 "nbformat": 4,
 "nbformat_minor": 5
}
