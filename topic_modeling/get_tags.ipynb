{
 "cells": [
  {
   "cell_type": "code",
   "execution_count": 1,
   "id": "f2a1712e",
   "metadata": {},
   "outputs": [
    {
     "name": "stderr",
     "output_type": "stream",
     "text": [
      "C:\\Python310\\lib\\site-packages\\past\\builtins\\misc.py:45: DeprecationWarning: the imp module is deprecated in favour of importlib and slated for removal in Python 3.12; see the module's documentation for alternative uses\n",
      "  from imp import reload\n",
      "C:\\Python310\\lib\\site-packages\\gensim\\matutils.py:22: DeprecationWarning: Please use `triu` from the `scipy.linalg` namespace, the `scipy.linalg.special_matrices` namespace is deprecated.\n",
      "  from scipy.linalg.special_matrices import triu\n"
     ]
    },
    {
     "name": "stdout",
     "output_type": "stream",
     "text": [
      "INFO: Pandarallel will run on 6 workers.\n",
      "INFO: Pandarallel will use standard multiprocessing data transfer (pipe) to transfer data between the main process and workers.\n",
      "\n",
      "WARNING: You are on Windows. If you detect any issue with pandarallel, be sure you checked out the Troubleshooting page:\n",
      "https://nalepae.github.io/pandarallel/troubleshooting/\n"
     ]
    }
   ],
   "source": [
    "import pandas as pd\n",
    "import numpy as np\n",
    "import seaborn as sns\n",
    "import pickle\n",
    "import matplotlib.pyplot as plt\n",
    "from scipy import sparse\n",
    "\n",
    "from tqdm import tqdm\n",
    "tqdm.pandas()\n",
    "\n",
    "import pyLDAvis\n",
    "import pyLDAvis.gensim_models\n",
    "import gensim\n",
    "\n",
    "import umap\n",
    "import umap.plot\n",
    "import hdbscan\n",
    "from sklearn.feature_extraction.text import CountVectorizer \n",
    "from sklearn.decomposition import LatentDirichletAllocation as LDA\n",
    "\n",
    "import warnings\n",
    "warnings.simplefilter('ignore')\n",
    "\n",
    "\n",
    "\n",
    "\n",
    "from pandarallel import pandarallel\n",
    "pandarallel.initialize(progress_bar=True)"
   ]
  },
  {
   "cell_type": "code",
   "execution_count": null,
   "id": "2e21a148",
   "metadata": {},
   "outputs": [],
   "source": [
    "def predproccess(s):\n",
    "    import numpy as np\n",
    "    \n",
    "    from nltk import word_tokenize\n",
    "    from nltk.stem import WordNetLemmatizer \n",
    "\n",
    "    from stop_words import get_stop_words\n",
    "    stop_words = get_stop_words('en')\n",
    "\n",
    "    s = s.lower()\n",
    "    lemmatizer = WordNetLemmatizer()\n",
    "    tokens = word_tokenize(s)\n",
    "    tokens = [lemmatizer.lemmatize(token) for token in tokens if token not in stop_words and token.isalpha()]\n",
    "    if len(tokens) >= 3:\n",
    "        return tokens\n",
    "    else:\n",
    "        return np.NAN"
   ]
  },
  {
   "cell_type": "code",
   "execution_count": 2,
   "id": "1d3116bc",
   "metadata": {},
   "outputs": [],
   "source": [
    "# df = pd.read_csv('titles.csv', delimiter='|')\n",
    "# titles = df.title\n",
    "# titles.shape\n",
    "df = pd.read_csv('step_df.csv')"
   ]
  },
  {
   "cell_type": "code",
   "execution_count": null,
   "id": "ff35c5b0",
   "metadata": {},
   "outputs": [],
   "source": [
    "df"
   ]
  },
  {
   "cell_type": "code",
   "execution_count": null,
   "id": "038dc4e7",
   "metadata": {},
   "outputs": [],
   "source": [
    "%%time\n",
    "df.title = df.title.parallel_apply(predproccess)"
   ]
  },
  {
   "cell_type": "code",
   "execution_count": null,
   "id": "1406c7cd",
   "metadata": {},
   "outputs": [],
   "source": [
    "df.dropna(subset=['title'], inplace=True)"
   ]
  },
  {
   "cell_type": "code",
   "execution_count": null,
   "id": "dff107d1",
   "metadata": {},
   "outputs": [],
   "source": [
    "# df._id.to_csv('step_df.csv', index=False)"
   ]
  },
  {
   "cell_type": "code",
   "execution_count": null,
   "id": "bdb5e13b",
   "metadata": {},
   "outputs": [],
   "source": [
    "from gensim.models.phrases import Phrases, ENGLISH_CONNECTOR_WORDS\n",
    "from gensim.corpora.dictionary import Dictionary\n",
    "from gensim.models.coherencemodel import CoherenceModel"
   ]
  },
  {
   "cell_type": "code",
   "execution_count": null,
   "id": "7e937b1c",
   "metadata": {},
   "outputs": [],
   "source": [
    "text_clean = df.title.to_list()"
   ]
  },
  {
   "cell_type": "code",
   "execution_count": null,
   "id": "eae078d3",
   "metadata": {},
   "outputs": [],
   "source": [
    "df.drop(['title'], axis=1, inplace=True)"
   ]
  },
  {
   "cell_type": "code",
   "execution_count": null,
   "id": "29c6cda6",
   "metadata": {},
   "outputs": [],
   "source": [
    "text_clean"
   ]
  },
  {
   "cell_type": "code",
   "execution_count": null,
   "id": "67388426",
   "metadata": {},
   "outputs": [],
   "source": [
    "bigram = Phrases(text_clean, connector_words=ENGLISH_CONNECTOR_WORDS)"
   ]
  },
  {
   "cell_type": "code",
   "execution_count": null,
   "id": "393aeee7",
   "metadata": {},
   "outputs": [],
   "source": [
    "for idx in range(len(text_clean)):\n",
    "    for token in bigram[text_clean[idx]]:\n",
    "        if '_' in token and token not in text_clean[idx]:\n",
    "            text_clean[idx].append(token)"
   ]
  },
  {
   "cell_type": "code",
   "execution_count": null,
   "id": "88f0574a",
   "metadata": {},
   "outputs": [],
   "source": [
    "text_clean"
   ]
  },
  {
   "cell_type": "code",
   "execution_count": null,
   "id": "0810b787",
   "metadata": {},
   "outputs": [],
   "source": [
    "%%time\n",
    "dictionary = Dictionary(text_clean)\n",
    "dictionary.filter_extremes(no_below=10, no_above=0.1)\n",
    "corpus = [dictionary.doc2bow(doc) for doc in text_clean]"
   ]
  },
  {
   "cell_type": "code",
   "execution_count": null,
   "id": "5b762073",
   "metadata": {},
   "outputs": [],
   "source": [
    "print('Количество уникальных токенов: %d' % len(dictionary))\n",
    "print('Количество документов: %d' % len(corpus))"
   ]
  },
  {
   "cell_type": "code",
   "execution_count": 4,
   "id": "92e538e3",
   "metadata": {},
   "outputs": [
    {
     "ename": "NameError",
     "evalue": "name 'dictionary' is not defined",
     "output_type": "error",
     "traceback": [
      "\u001b[1;31m---------------------------------------------------------------------------\u001b[0m",
      "\u001b[1;31mNameError\u001b[0m                                 Traceback (most recent call last)",
      "Cell \u001b[1;32mIn [4], line 2\u001b[0m\n\u001b[0;32m      1\u001b[0m \u001b[38;5;28;01mfrom\u001b[39;00m \u001b[38;5;21;01mgensim\u001b[39;00m \u001b[38;5;28;01mimport\u001b[39;00m corpora\n\u001b[1;32m----> 2\u001b[0m \u001b[43mdictionary\u001b[49m\u001b[38;5;241m.\u001b[39msave(\u001b[38;5;124m'\u001b[39m\u001b[38;5;124mdictionary.dict\u001b[39m\u001b[38;5;124m'\u001b[39m)\n\u001b[0;32m      3\u001b[0m corpora\u001b[38;5;241m.\u001b[39mMmCorpus\u001b[38;5;241m.\u001b[39mserialize(\u001b[38;5;124m'\u001b[39m\u001b[38;5;124mcorpus.crp\u001b[39m\u001b[38;5;124m'\u001b[39m, corpus)\n",
      "\u001b[1;31mNameError\u001b[0m: name 'dictionary' is not defined"
     ]
    }
   ],
   "source": [
    "# from gensim import corpora\n",
    "# dictionary.save('dictionary.dict')\n",
    "# corpora.MmCorpus.serialize('corpus.crp', corpus)"
   ]
  },
  {
   "cell_type": "code",
   "execution_count": null,
   "id": "5f02f0be",
   "metadata": {},
   "outputs": [],
   "source": [
    "import json\n",
    "json.dump(text_clean, open('text_clean.json', 'w'))"
   ]
  },
  {
   "cell_type": "code",
   "execution_count": null,
   "id": "012db9bb",
   "metadata": {},
   "outputs": [],
   "source": [
    "del text_clean"
   ]
  },
  {
   "cell_type": "code",
   "execution_count": 5,
   "id": "a9109d4d",
   "metadata": {},
   "outputs": [],
   "source": [
    "from gensim import corpora\n",
    "dictionary = corpora.Dictionary.load(\"dictionary.dict\")\n",
    "corpus = corpora.MmCorpus(\"corpus.crp\")"
   ]
  },
  {
   "cell_type": "code",
   "execution_count": null,
   "id": "d5588075",
   "metadata": {},
   "outputs": [],
   "source": [
    "# import json\n",
    "# text_clean = json.load(open('text_clean.json', 'r'))"
   ]
  },
  {
   "cell_type": "code",
   "execution_count": null,
   "id": "0d0b7307",
   "metadata": {},
   "outputs": [],
   "source": [
    "from gensim.models.ldamulticore import LdaMulticore"
   ]
  },
  {
   "cell_type": "code",
   "execution_count": null,
   "id": "552075e5",
   "metadata": {
    "scrolled": true
   },
   "outputs": [],
   "source": [
    "coherence_values = []\n",
    "models_list = []\n",
    "x_range = range(2, 22)\n",
    "for n_topics in tqdm(x_range):\n",
    "    model=LdaMulticore(corpus=corpus,id2word=dictionary, num_topics=n_topics)\n",
    "    models_list.append(model)\n",
    "    coherencemodel = CoherenceModel(model=model, corpus=corpus, dictionary=dictionary, coherence='u_mass')\n",
    "    coherence_values.append(coherencemodel.get_coherence())"
   ]
  },
  {
   "cell_type": "code",
   "execution_count": null,
   "id": "85a5f707",
   "metadata": {},
   "outputs": [],
   "source": [
    "sns.lineplot(y=coherence_values, x=x_range)"
   ]
  },
  {
   "cell_type": "code",
   "execution_count": null,
   "id": "cc6d8192",
   "metadata": {},
   "outputs": [],
   "source": [
    "coherence_values"
   ]
  },
  {
   "cell_type": "code",
   "execution_count": null,
   "id": "5938ff8d",
   "metadata": {},
   "outputs": [],
   "source": [
    "n_t = 2\n",
    "for model in models_list:\n",
    "    tags = {}\n",
    "    for i, token_id in enumerate(np.argmax(model.get_topics(), axis=1)):\n",
    "        tags[i] = dictionary[token_id]\n",
    "    print(f'{n_t}: {tags}')\n",
    "    n_t += 1\n",
    "    "
   ]
  },
  {
   "cell_type": "code",
   "execution_count": 3,
   "id": "106032c7",
   "metadata": {},
   "outputs": [],
   "source": [
    "best_model = pickle.load(open('model_10_tags.pkl', 'rb'))"
   ]
  },
  {
   "cell_type": "code",
   "execution_count": 24,
   "id": "e1a3edfb",
   "metadata": {},
   "outputs": [],
   "source": [
    "# best_model = models_list[8]\n",
    "tags = {}\n",
    "for i, token_id in enumerate(np.argmax(best_model.get_topics(), axis=1)):\n",
    "    tags[i] = dictionary[token_id]"
   ]
  },
  {
   "cell_type": "code",
   "execution_count": 25,
   "id": "9953149c",
   "metadata": {},
   "outputs": [
    {
     "data": {
      "text/plain": [
       "{0: 'data',\n",
       " 1: 'study',\n",
       " 2: 'based',\n",
       " 3: 'algorithm',\n",
       " 4: 'learning',\n",
       " 5: 'graph',\n",
       " 6: 'network',\n",
       " 7: 'research',\n",
       " 8: 'network',\n",
       " 9: 'deep'}"
      ]
     },
     "execution_count": 25,
     "metadata": {},
     "output_type": "execute_result"
    }
   ],
   "source": [
    "tags"
   ]
  },
  {
   "cell_type": "code",
   "execution_count": null,
   "id": "927a1da4",
   "metadata": {},
   "outputs": [],
   "source": [
    "%%time\n",
    "data = pyLDAvis.gensim_models.prepare(best_model, corpus, dictionary)"
   ]
  },
  {
   "cell_type": "code",
   "execution_count": null,
   "id": "3d2d0bc6",
   "metadata": {},
   "outputs": [],
   "source": [
    "pyLDAvis.enable_notebook()\n",
    "pyLDAvis.display(data)"
   ]
  },
  {
   "cell_type": "markdown",
   "id": "1866f431",
   "metadata": {},
   "source": [
    "<img src=\"2_class.jpg\">"
   ]
  },
  {
   "cell_type": "code",
   "execution_count": 26,
   "id": "a3b3e778",
   "metadata": {},
   "outputs": [],
   "source": [
    "tags[2] = 'wireless_traffic'"
   ]
  },
  {
   "cell_type": "code",
   "execution_count": 27,
   "id": "3929e6a0",
   "metadata": {},
   "outputs": [],
   "source": [
    "# pickle.dump(best_model, open('model_10_tags.pkl', 'wb'))"
   ]
  },
  {
   "cell_type": "code",
   "execution_count": 28,
   "id": "82daf2a1",
   "metadata": {},
   "outputs": [
    {
     "data": {
      "text/plain": [
       "{0: 'data',\n",
       " 1: 'study',\n",
       " 2: 'wireless_traffic',\n",
       " 3: 'algorithm',\n",
       " 4: 'learning',\n",
       " 5: 'graph',\n",
       " 6: 'network',\n",
       " 7: 'research',\n",
       " 8: 'network',\n",
       " 9: 'deep'}"
      ]
     },
     "execution_count": 28,
     "metadata": {},
     "output_type": "execute_result"
    }
   ],
   "source": [
    "tags"
   ]
  },
  {
   "cell_type": "code",
   "execution_count": null,
   "id": "0c64fd27",
   "metadata": {},
   "outputs": [],
   "source": [
    "del corpus\n",
    "del dictionary"
   ]
  },
  {
   "cell_type": "code",
   "execution_count": null,
   "id": "70e3a12c",
   "metadata": {},
   "outputs": [],
   "source": [
    "best_model.num_topics"
   ]
  },
  {
   "cell_type": "code",
   "execution_count": null,
   "id": "439ed106",
   "metadata": {},
   "outputs": [],
   "source": [
    "best_model.show_topics()"
   ]
  },
  {
   "cell_type": "code",
   "execution_count": null,
   "id": "848ea291",
   "metadata": {},
   "outputs": [],
   "source": [
    "len(corpus)"
   ]
  },
  {
   "cell_type": "code",
   "execution_count": 10,
   "id": "59cf4bf9",
   "metadata": {},
   "outputs": [],
   "source": [
    "def get_tag(corpus_sample):\n",
    "#     import numpy as np\n",
    "#     import pickle\n",
    "#     best_model = pickle.load(open('model_10_tags.pkl', 'rb'))\n",
    "    \n",
    "    if corpus_sample:\n",
    "        res = np.zeros(10)\n",
    "        pred = best_model.get_document_topics(corpus_sample)\n",
    "        for i, score in pred:\n",
    "            res[i] = score\n",
    "            \n",
    "        if len(res) == 10 and (res == res[0]).all():\n",
    "            return np.NAN\n",
    "        return res.argmax()\n",
    "    else:\n",
    "        return np.NAN"
   ]
  },
  {
   "cell_type": "code",
   "execution_count": 6,
   "id": "1467b923",
   "metadata": {},
   "outputs": [
    {
     "name": "stdout",
     "output_type": "stream",
     "text": [
      "CPU times: total: 41.9 s\n",
      "Wall time: 50.1 s\n"
     ]
    }
   ],
   "source": [
    "%%time\n",
    "df['corpus_sample'] = list(corpus)"
   ]
  },
  {
   "cell_type": "code",
   "execution_count": 11,
   "id": "0d04da67",
   "metadata": {},
   "outputs": [
    {
     "name": "stderr",
     "output_type": "stream",
     "text": [
      "100%|██████████████████████████████████████████████████████████████████████| 5176332/5176332 [14:15<00:00, 6047.61it/s]\n"
     ]
    }
   ],
   "source": [
    "df['tag'] = df.corpus_sample.progress_apply(get_tag)"
   ]
  },
  {
   "cell_type": "code",
   "execution_count": 20,
   "id": "e395c5f4",
   "metadata": {},
   "outputs": [
    {
     "data": {
      "text/html": [
       "<div>\n",
       "<style scoped>\n",
       "    .dataframe tbody tr th:only-of-type {\n",
       "        vertical-align: middle;\n",
       "    }\n",
       "\n",
       "    .dataframe tbody tr th {\n",
       "        vertical-align: top;\n",
       "    }\n",
       "\n",
       "    .dataframe thead th {\n",
       "        text-align: right;\n",
       "    }\n",
       "</style>\n",
       "<table border=\"1\" class=\"dataframe\">\n",
       "  <thead>\n",
       "    <tr style=\"text-align: right;\">\n",
       "      <th></th>\n",
       "      <th>_id</th>\n",
       "      <th>tag</th>\n",
       "    </tr>\n",
       "  </thead>\n",
       "  <tbody>\n",
       "    <tr>\n",
       "      <th>0</th>\n",
       "      <td>53e99784b7602d9701f3e133</td>\n",
       "      <td>3.0</td>\n",
       "    </tr>\n",
       "    <tr>\n",
       "      <th>1</th>\n",
       "      <td>53e99784b7602d9701f3e151</td>\n",
       "      <td>9.0</td>\n",
       "    </tr>\n",
       "    <tr>\n",
       "      <th>2</th>\n",
       "      <td>53e99784b7602d9701f3e15d</td>\n",
       "      <td>4.0</td>\n",
       "    </tr>\n",
       "    <tr>\n",
       "      <th>3</th>\n",
       "      <td>53e99784b7602d9701f3e922</td>\n",
       "      <td>7.0</td>\n",
       "    </tr>\n",
       "    <tr>\n",
       "      <th>4</th>\n",
       "      <td>53e99784b7602d9701f3f411</td>\n",
       "      <td>2.0</td>\n",
       "    </tr>\n",
       "    <tr>\n",
       "      <th>...</th>\n",
       "      <td>...</td>\n",
       "      <td>...</td>\n",
       "    </tr>\n",
       "    <tr>\n",
       "      <th>5176327</th>\n",
       "      <td>6087e112e4510cd7c80b9128</td>\n",
       "      <td>1.0</td>\n",
       "    </tr>\n",
       "    <tr>\n",
       "      <th>5176328</th>\n",
       "      <td>6087e112e4510cd7c80b912b</td>\n",
       "      <td>7.0</td>\n",
       "    </tr>\n",
       "    <tr>\n",
       "      <th>5176329</th>\n",
       "      <td>6087e112e4510cd7c80b912a</td>\n",
       "      <td>1.0</td>\n",
       "    </tr>\n",
       "    <tr>\n",
       "      <th>5176330</th>\n",
       "      <td>6087e112e4510cd7c80b912c</td>\n",
       "      <td>7.0</td>\n",
       "    </tr>\n",
       "    <tr>\n",
       "      <th>5176331</th>\n",
       "      <td>6087e112e4510cd7c80b912d</td>\n",
       "      <td>7.0</td>\n",
       "    </tr>\n",
       "  </tbody>\n",
       "</table>\n",
       "<p>5176332 rows × 2 columns</p>\n",
       "</div>"
      ],
      "text/plain": [
       "                              _id  tag\n",
       "0        53e99784b7602d9701f3e133  3.0\n",
       "1        53e99784b7602d9701f3e151  9.0\n",
       "2        53e99784b7602d9701f3e15d  4.0\n",
       "3        53e99784b7602d9701f3e922  7.0\n",
       "4        53e99784b7602d9701f3f411  2.0\n",
       "...                           ...  ...\n",
       "5176327  6087e112e4510cd7c80b9128  1.0\n",
       "5176328  6087e112e4510cd7c80b912b  7.0\n",
       "5176329  6087e112e4510cd7c80b912a  1.0\n",
       "5176330  6087e112e4510cd7c80b912c  7.0\n",
       "5176331  6087e112e4510cd7c80b912d  7.0\n",
       "\n",
       "[5176332 rows x 2 columns]"
      ]
     },
     "execution_count": 20,
     "metadata": {},
     "output_type": "execute_result"
    }
   ],
   "source": [
    "df"
   ]
  },
  {
   "cell_type": "code",
   "execution_count": null,
   "id": "fd4c0143",
   "metadata": {
    "scrolled": true
   },
   "outputs": [],
   "source": [
    "# %%time\n",
    "# preds = pd.DataFrame(columns=range(best_model.num_topics))\n",
    "# for bow in tqdm(corpus):\n",
    "#     if bow:\n",
    "#         preds = preds.append(dict(best_model.get_document_topics(bow)), ignore_index=True)\n",
    "#     else:\n",
    "#         preds = preds.append([np.NAN], ignore_index=True)"
   ]
  },
  {
   "cell_type": "code",
   "execution_count": 29,
   "id": "65aa757d",
   "metadata": {},
   "outputs": [],
   "source": [
    "df.dropna(subset=['tag'], inplace=True)\n",
    "df.tag = df.tag.astype(int)"
   ]
  },
  {
   "cell_type": "code",
   "execution_count": 30,
   "id": "191c0e7c",
   "metadata": {},
   "outputs": [
    {
     "data": {
      "text/html": [
       "<div>\n",
       "<style scoped>\n",
       "    .dataframe tbody tr th:only-of-type {\n",
       "        vertical-align: middle;\n",
       "    }\n",
       "\n",
       "    .dataframe tbody tr th {\n",
       "        vertical-align: top;\n",
       "    }\n",
       "\n",
       "    .dataframe thead th {\n",
       "        text-align: right;\n",
       "    }\n",
       "</style>\n",
       "<table border=\"1\" class=\"dataframe\">\n",
       "  <thead>\n",
       "    <tr style=\"text-align: right;\">\n",
       "      <th></th>\n",
       "      <th>_id</th>\n",
       "      <th>tag</th>\n",
       "    </tr>\n",
       "  </thead>\n",
       "  <tbody>\n",
       "    <tr>\n",
       "      <th>0</th>\n",
       "      <td>53e99784b7602d9701f3e133</td>\n",
       "      <td>3</td>\n",
       "    </tr>\n",
       "    <tr>\n",
       "      <th>1</th>\n",
       "      <td>53e99784b7602d9701f3e151</td>\n",
       "      <td>9</td>\n",
       "    </tr>\n",
       "    <tr>\n",
       "      <th>2</th>\n",
       "      <td>53e99784b7602d9701f3e15d</td>\n",
       "      <td>4</td>\n",
       "    </tr>\n",
       "    <tr>\n",
       "      <th>3</th>\n",
       "      <td>53e99784b7602d9701f3e922</td>\n",
       "      <td>7</td>\n",
       "    </tr>\n",
       "    <tr>\n",
       "      <th>4</th>\n",
       "      <td>53e99784b7602d9701f3f411</td>\n",
       "      <td>2</td>\n",
       "    </tr>\n",
       "    <tr>\n",
       "      <th>...</th>\n",
       "      <td>...</td>\n",
       "      <td>...</td>\n",
       "    </tr>\n",
       "    <tr>\n",
       "      <th>5176327</th>\n",
       "      <td>6087e112e4510cd7c80b9128</td>\n",
       "      <td>1</td>\n",
       "    </tr>\n",
       "    <tr>\n",
       "      <th>5176328</th>\n",
       "      <td>6087e112e4510cd7c80b912b</td>\n",
       "      <td>7</td>\n",
       "    </tr>\n",
       "    <tr>\n",
       "      <th>5176329</th>\n",
       "      <td>6087e112e4510cd7c80b912a</td>\n",
       "      <td>1</td>\n",
       "    </tr>\n",
       "    <tr>\n",
       "      <th>5176330</th>\n",
       "      <td>6087e112e4510cd7c80b912c</td>\n",
       "      <td>7</td>\n",
       "    </tr>\n",
       "    <tr>\n",
       "      <th>5176331</th>\n",
       "      <td>6087e112e4510cd7c80b912d</td>\n",
       "      <td>7</td>\n",
       "    </tr>\n",
       "  </tbody>\n",
       "</table>\n",
       "<p>5175371 rows × 2 columns</p>\n",
       "</div>"
      ],
      "text/plain": [
       "                              _id  tag\n",
       "0        53e99784b7602d9701f3e133    3\n",
       "1        53e99784b7602d9701f3e151    9\n",
       "2        53e99784b7602d9701f3e15d    4\n",
       "3        53e99784b7602d9701f3e922    7\n",
       "4        53e99784b7602d9701f3f411    2\n",
       "...                           ...  ...\n",
       "5176327  6087e112e4510cd7c80b9128    1\n",
       "5176328  6087e112e4510cd7c80b912b    7\n",
       "5176329  6087e112e4510cd7c80b912a    1\n",
       "5176330  6087e112e4510cd7c80b912c    7\n",
       "5176331  6087e112e4510cd7c80b912d    7\n",
       "\n",
       "[5175371 rows x 2 columns]"
      ]
     },
     "execution_count": 30,
     "metadata": {},
     "output_type": "execute_result"
    }
   ],
   "source": [
    "df"
   ]
  },
  {
   "cell_type": "code",
   "execution_count": 32,
   "id": "9fe19b2e",
   "metadata": {},
   "outputs": [],
   "source": [
    "df.tag = df.tag.map(tags)"
   ]
  },
  {
   "cell_type": "code",
   "execution_count": 33,
   "id": "778d669d",
   "metadata": {},
   "outputs": [
    {
     "data": {
      "text/html": [
       "<div>\n",
       "<style scoped>\n",
       "    .dataframe tbody tr th:only-of-type {\n",
       "        vertical-align: middle;\n",
       "    }\n",
       "\n",
       "    .dataframe tbody tr th {\n",
       "        vertical-align: top;\n",
       "    }\n",
       "\n",
       "    .dataframe thead th {\n",
       "        text-align: right;\n",
       "    }\n",
       "</style>\n",
       "<table border=\"1\" class=\"dataframe\">\n",
       "  <thead>\n",
       "    <tr style=\"text-align: right;\">\n",
       "      <th></th>\n",
       "      <th>_id</th>\n",
       "      <th>tag</th>\n",
       "    </tr>\n",
       "  </thead>\n",
       "  <tbody>\n",
       "    <tr>\n",
       "      <th>0</th>\n",
       "      <td>53e99784b7602d9701f3e133</td>\n",
       "      <td>algorithm</td>\n",
       "    </tr>\n",
       "    <tr>\n",
       "      <th>1</th>\n",
       "      <td>53e99784b7602d9701f3e151</td>\n",
       "      <td>deep</td>\n",
       "    </tr>\n",
       "    <tr>\n",
       "      <th>2</th>\n",
       "      <td>53e99784b7602d9701f3e15d</td>\n",
       "      <td>learning</td>\n",
       "    </tr>\n",
       "    <tr>\n",
       "      <th>3</th>\n",
       "      <td>53e99784b7602d9701f3e922</td>\n",
       "      <td>research</td>\n",
       "    </tr>\n",
       "    <tr>\n",
       "      <th>4</th>\n",
       "      <td>53e99784b7602d9701f3f411</td>\n",
       "      <td>wireless_traffic</td>\n",
       "    </tr>\n",
       "    <tr>\n",
       "      <th>...</th>\n",
       "      <td>...</td>\n",
       "      <td>...</td>\n",
       "    </tr>\n",
       "    <tr>\n",
       "      <th>5176327</th>\n",
       "      <td>6087e112e4510cd7c80b9128</td>\n",
       "      <td>study</td>\n",
       "    </tr>\n",
       "    <tr>\n",
       "      <th>5176328</th>\n",
       "      <td>6087e112e4510cd7c80b912b</td>\n",
       "      <td>research</td>\n",
       "    </tr>\n",
       "    <tr>\n",
       "      <th>5176329</th>\n",
       "      <td>6087e112e4510cd7c80b912a</td>\n",
       "      <td>study</td>\n",
       "    </tr>\n",
       "    <tr>\n",
       "      <th>5176330</th>\n",
       "      <td>6087e112e4510cd7c80b912c</td>\n",
       "      <td>research</td>\n",
       "    </tr>\n",
       "    <tr>\n",
       "      <th>5176331</th>\n",
       "      <td>6087e112e4510cd7c80b912d</td>\n",
       "      <td>research</td>\n",
       "    </tr>\n",
       "  </tbody>\n",
       "</table>\n",
       "<p>5175371 rows × 2 columns</p>\n",
       "</div>"
      ],
      "text/plain": [
       "                              _id               tag\n",
       "0        53e99784b7602d9701f3e133         algorithm\n",
       "1        53e99784b7602d9701f3e151              deep\n",
       "2        53e99784b7602d9701f3e15d          learning\n",
       "3        53e99784b7602d9701f3e922          research\n",
       "4        53e99784b7602d9701f3f411  wireless_traffic\n",
       "...                           ...               ...\n",
       "5176327  6087e112e4510cd7c80b9128             study\n",
       "5176328  6087e112e4510cd7c80b912b          research\n",
       "5176329  6087e112e4510cd7c80b912a             study\n",
       "5176330  6087e112e4510cd7c80b912c          research\n",
       "5176331  6087e112e4510cd7c80b912d          research\n",
       "\n",
       "[5175371 rows x 2 columns]"
      ]
     },
     "execution_count": 33,
     "metadata": {},
     "output_type": "execute_result"
    }
   ],
   "source": [
    "df"
   ]
  },
  {
   "cell_type": "code",
   "execution_count": 34,
   "id": "d011e1fa",
   "metadata": {},
   "outputs": [
    {
     "data": {
      "text/plain": [
       "network             1495232\n",
       "wireless_traffic     590890\n",
       "study                536479\n",
       "research             457815\n",
       "deep                 443990\n",
       "graph                442449\n",
       "learning             438727\n",
       "algorithm            429812\n",
       "data                 339977\n",
       "Name: tag, dtype: int64"
      ]
     },
     "execution_count": 34,
     "metadata": {},
     "output_type": "execute_result"
    }
   ],
   "source": [
    "df.tag.value_counts()"
   ]
  },
  {
   "cell_type": "code",
   "execution_count": 35,
   "id": "f7bb582e",
   "metadata": {},
   "outputs": [],
   "source": [
    "df.to_csv('titles_tag.csv', index=False)"
   ]
  },
  {
   "cell_type": "code",
   "execution_count": 37,
   "id": "df512f0b",
   "metadata": {},
   "outputs": [],
   "source": [
    "s = pd.read_csv('titles_tag.csv', chunksize=100)"
   ]
  },
  {
   "cell_type": "code",
   "execution_count": 40,
   "id": "f914f9d8",
   "metadata": {},
   "outputs": [
    {
     "data": {
      "text/html": [
       "<div>\n",
       "<style scoped>\n",
       "    .dataframe tbody tr th:only-of-type {\n",
       "        vertical-align: middle;\n",
       "    }\n",
       "\n",
       "    .dataframe tbody tr th {\n",
       "        vertical-align: top;\n",
       "    }\n",
       "\n",
       "    .dataframe thead th {\n",
       "        text-align: right;\n",
       "    }\n",
       "</style>\n",
       "<table border=\"1\" class=\"dataframe\">\n",
       "  <thead>\n",
       "    <tr style=\"text-align: right;\">\n",
       "      <th></th>\n",
       "      <th>_id</th>\n",
       "      <th>tag</th>\n",
       "    </tr>\n",
       "  </thead>\n",
       "  <tbody>\n",
       "    <tr>\n",
       "      <th>100</th>\n",
       "      <td>53e99796b7602d9701f5c543</td>\n",
       "      <td>learning</td>\n",
       "    </tr>\n",
       "    <tr>\n",
       "      <th>101</th>\n",
       "      <td>53e99796b7602d9701f5c558</td>\n",
       "      <td>study</td>\n",
       "    </tr>\n",
       "    <tr>\n",
       "      <th>102</th>\n",
       "      <td>53e99796b7602d9701f5c55d</td>\n",
       "      <td>research</td>\n",
       "    </tr>\n",
       "    <tr>\n",
       "      <th>103</th>\n",
       "      <td>53e99796b7602d9701f5c55e</td>\n",
       "      <td>deep</td>\n",
       "    </tr>\n",
       "    <tr>\n",
       "      <th>104</th>\n",
       "      <td>53e99796b7602d9701f5c563</td>\n",
       "      <td>graph</td>\n",
       "    </tr>\n",
       "    <tr>\n",
       "      <th>...</th>\n",
       "      <td>...</td>\n",
       "      <td>...</td>\n",
       "    </tr>\n",
       "    <tr>\n",
       "      <th>195</th>\n",
       "      <td>53e997cbb7602d9701fbd707</td>\n",
       "      <td>network</td>\n",
       "    </tr>\n",
       "    <tr>\n",
       "      <th>196</th>\n",
       "      <td>53e997cbb7602d9701fbd176</td>\n",
       "      <td>study</td>\n",
       "    </tr>\n",
       "    <tr>\n",
       "      <th>197</th>\n",
       "      <td>53e997cbb7602d9701fbd179</td>\n",
       "      <td>research</td>\n",
       "    </tr>\n",
       "    <tr>\n",
       "      <th>198</th>\n",
       "      <td>53e997cbb7602d9701fbd490</td>\n",
       "      <td>wireless_traffic</td>\n",
       "    </tr>\n",
       "    <tr>\n",
       "      <th>199</th>\n",
       "      <td>53e997cbb7602d9701fbd494</td>\n",
       "      <td>algorithm</td>\n",
       "    </tr>\n",
       "  </tbody>\n",
       "</table>\n",
       "<p>100 rows × 2 columns</p>\n",
       "</div>"
      ],
      "text/plain": [
       "                          _id               tag\n",
       "100  53e99796b7602d9701f5c543          learning\n",
       "101  53e99796b7602d9701f5c558             study\n",
       "102  53e99796b7602d9701f5c55d          research\n",
       "103  53e99796b7602d9701f5c55e              deep\n",
       "104  53e99796b7602d9701f5c563             graph\n",
       "..                        ...               ...\n",
       "195  53e997cbb7602d9701fbd707           network\n",
       "196  53e997cbb7602d9701fbd176             study\n",
       "197  53e997cbb7602d9701fbd179          research\n",
       "198  53e997cbb7602d9701fbd490  wireless_traffic\n",
       "199  53e997cbb7602d9701fbd494         algorithm\n",
       "\n",
       "[100 rows x 2 columns]"
      ]
     },
     "execution_count": 40,
     "metadata": {},
     "output_type": "execute_result"
    }
   ],
   "source": [
    "s.get_chunk()"
   ]
  },
  {
   "cell_type": "code",
   "execution_count": null,
   "id": "b6e2cbdd",
   "metadata": {},
   "outputs": [],
   "source": []
  }
 ],
 "metadata": {
  "kernelspec": {
   "display_name": "Python 3 (ipykernel)",
   "language": "python",
   "name": "python3"
  },
  "language_info": {
   "codemirror_mode": {
    "name": "ipython",
    "version": 3
   },
   "file_extension": ".py",
   "mimetype": "text/x-python",
   "name": "python",
   "nbconvert_exporter": "python",
   "pygments_lexer": "ipython3",
   "version": "3.10.7"
  }
 },
 "nbformat": 4,
 "nbformat_minor": 5
}
