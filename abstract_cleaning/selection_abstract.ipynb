{
 "cells": [
  {
   "cell_type": "code",
   "execution_count": 1,
   "id": "e247c4cf",
   "metadata": {},
   "outputs": [],
   "source": [
    "import pandas as pd\n",
    "import numpy as np\n",
    "import json\n",
    "import os\n",
    "from tqdm import tqdm\n",
    "import langdetect"
   ]
  },
  {
   "cell_type": "code",
   "execution_count": 2,
   "id": "67a0c719",
   "metadata": {},
   "outputs": [],
   "source": [
    "def detect_lang(string):\n",
    "    try:\n",
    "        string = string[1:-1].replace(\"'\", '').split(', ')\n",
    "        string = ' '.join(string)\n",
    "        return langdetect.detect(string)\n",
    "    except:\n",
    "        print(string)\n",
    "        return np.nan"
   ]
  },
  {
   "cell_type": "code",
   "execution_count": 3,
   "id": "19f1d7eb",
   "metadata": {},
   "outputs": [],
   "source": [
    "# df = pd.DataFrame(columns=['_id', 'words_abstract', 'lang'])"
   ]
  },
  {
   "cell_type": "code",
   "execution_count": 4,
   "id": "31b4c875",
   "metadata": {},
   "outputs": [],
   "source": [
    "# os.chdir('parts_abstract/')\n",
    "# for file_name in tqdm(os.listdir()):\n",
    "#     step_df = pd.read_csv(file_name)\n",
    "#     df = pd.concat([df, step_df])\n",
    "#     del step_df\n",
    "# os.chdir('..')"
   ]
  },
  {
   "cell_type": "code",
   "execution_count": 6,
   "id": "a1b87be7",
   "metadata": {},
   "outputs": [],
   "source": [
    "# df.to_csv('clear_abstract.csv')"
   ]
  },
  {
   "cell_type": "code",
   "execution_count": 7,
   "id": "d1e3917b",
   "metadata": {},
   "outputs": [],
   "source": [
    "# TODO убрать NA, отобрать value_counts > 2 и посмотреть, посмотреть lang !=, посмотреть слов меньше какого то количества"
   ]
  },
  {
   "cell_type": "code",
   "execution_count": 8,
   "id": "16d27b96",
   "metadata": {},
   "outputs": [],
   "source": [
    "df = pd.read_csv('clear_abstract.csv', index_col=0)"
   ]
  },
  {
   "cell_type": "code",
   "execution_count": 9,
   "id": "7c78b037",
   "metadata": {},
   "outputs": [
    {
     "data": {
      "text/plain": [
       "(3864768, 4)"
      ]
     },
     "execution_count": 9,
     "metadata": {},
     "output_type": "execute_result"
    }
   ],
   "source": [
    "df.shape"
   ]
  },
  {
   "cell_type": "code",
   "execution_count": 10,
   "id": "6c92502e",
   "metadata": {},
   "outputs": [
    {
     "data": {
      "text/html": [
       "<div>\n",
       "<style scoped>\n",
       "    .dataframe tbody tr th:only-of-type {\n",
       "        vertical-align: middle;\n",
       "    }\n",
       "\n",
       "    .dataframe tbody tr th {\n",
       "        vertical-align: top;\n",
       "    }\n",
       "\n",
       "    .dataframe thead th {\n",
       "        text-align: right;\n",
       "    }\n",
       "</style>\n",
       "<table border=\"1\" class=\"dataframe\">\n",
       "  <thead>\n",
       "    <tr style=\"text-align: right;\">\n",
       "      <th></th>\n",
       "      <th>_id</th>\n",
       "      <th>words_abstract</th>\n",
       "      <th>lang</th>\n",
       "      <th>detect_lang</th>\n",
       "    </tr>\n",
       "  </thead>\n",
       "  <tbody>\n",
       "    <tr>\n",
       "      <th>79</th>\n",
       "      <td>53e99785b7602d9701f40279</td>\n",
       "      <td>NaN</td>\n",
       "      <td>en</td>\n",
       "      <td>NaN</td>\n",
       "    </tr>\n",
       "    <tr>\n",
       "      <th>681</th>\n",
       "      <td>53e9978ab7602d9701f4b051</td>\n",
       "      <td>NaN</td>\n",
       "      <td>en</td>\n",
       "      <td>NaN</td>\n",
       "    </tr>\n",
       "    <tr>\n",
       "      <th>1711</th>\n",
       "      <td>53e99796b7602d9701f5d870</td>\n",
       "      <td>NaN</td>\n",
       "      <td>en</td>\n",
       "      <td>NaN</td>\n",
       "    </tr>\n",
       "    <tr>\n",
       "      <th>5923</th>\n",
       "      <td>53e997b5b7602d9701f97d40</td>\n",
       "      <td>NaN</td>\n",
       "      <td>en</td>\n",
       "      <td>NaN</td>\n",
       "    </tr>\n",
       "    <tr>\n",
       "      <th>6212</th>\n",
       "      <td>53e997b5b7602d9701f9c64b</td>\n",
       "      <td>NaN</td>\n",
       "      <td>en</td>\n",
       "      <td>NaN</td>\n",
       "    </tr>\n",
       "    <tr>\n",
       "      <th>...</th>\n",
       "      <td>...</td>\n",
       "      <td>...</td>\n",
       "      <td>...</td>\n",
       "      <td>...</td>\n",
       "    </tr>\n",
       "    <tr>\n",
       "      <th>50725</th>\n",
       "      <td>53e9a6bbb7602d9702fef7cc</td>\n",
       "      <td>NaN</td>\n",
       "      <td>en</td>\n",
       "      <td>NaN</td>\n",
       "    </tr>\n",
       "    <tr>\n",
       "      <th>56242</th>\n",
       "      <td>53e9a6dfb7602d970301101e</td>\n",
       "      <td>NaN</td>\n",
       "      <td>en</td>\n",
       "      <td>NaN</td>\n",
       "    </tr>\n",
       "    <tr>\n",
       "      <th>68511</th>\n",
       "      <td>53e9a727b7602d970305e88a</td>\n",
       "      <td>NaN</td>\n",
       "      <td>en</td>\n",
       "      <td>NaN</td>\n",
       "    </tr>\n",
       "    <tr>\n",
       "      <th>70126</th>\n",
       "      <td>53e9a72eb7602d97030686dc</td>\n",
       "      <td>NaN</td>\n",
       "      <td>en</td>\n",
       "      <td>NaN</td>\n",
       "    </tr>\n",
       "    <tr>\n",
       "      <th>71588</th>\n",
       "      <td>53e9a73bb7602d9703070eb4</td>\n",
       "      <td>NaN</td>\n",
       "      <td>en</td>\n",
       "      <td>NaN</td>\n",
       "    </tr>\n",
       "  </tbody>\n",
       "</table>\n",
       "<p>480 rows × 4 columns</p>\n",
       "</div>"
      ],
      "text/plain": [
       "                            _id words_abstract lang detect_lang\n",
       "79     53e99785b7602d9701f40279            NaN   en         NaN\n",
       "681    53e9978ab7602d9701f4b051            NaN   en         NaN\n",
       "1711   53e99796b7602d9701f5d870            NaN   en         NaN\n",
       "5923   53e997b5b7602d9701f97d40            NaN   en         NaN\n",
       "6212   53e997b5b7602d9701f9c64b            NaN   en         NaN\n",
       "...                         ...            ...  ...         ...\n",
       "50725  53e9a6bbb7602d9702fef7cc            NaN   en         NaN\n",
       "56242  53e9a6dfb7602d970301101e            NaN   en         NaN\n",
       "68511  53e9a727b7602d970305e88a            NaN   en         NaN\n",
       "70126  53e9a72eb7602d97030686dc            NaN   en         NaN\n",
       "71588  53e9a73bb7602d9703070eb4            NaN   en         NaN\n",
       "\n",
       "[480 rows x 4 columns]"
      ]
     },
     "execution_count": 10,
     "metadata": {},
     "output_type": "execute_result"
    }
   ],
   "source": [
    "df[df.words_abstract.isna()]"
   ]
  },
  {
   "cell_type": "code",
   "execution_count": 11,
   "id": "95bb3f2f",
   "metadata": {},
   "outputs": [],
   "source": [
    "df.dropna(subset='words_abstract', inplace=True)"
   ]
  },
  {
   "cell_type": "code",
   "execution_count": 12,
   "id": "65b7253d",
   "metadata": {},
   "outputs": [
    {
     "data": {
      "text/plain": [
       "(3864288, 4)"
      ]
     },
     "execution_count": 12,
     "metadata": {},
     "output_type": "execute_result"
    }
   ],
   "source": [
    "df.shape"
   ]
  },
  {
   "cell_type": "code",
   "execution_count": 13,
   "id": "103c05b5",
   "metadata": {},
   "outputs": [],
   "source": [
    "distr = df.words_abstract.value_counts()"
   ]
  },
  {
   "cell_type": "code",
   "execution_count": 14,
   "id": "0a8c833e",
   "metadata": {
    "scrolled": true
   },
   "outputs": [
    {
     "data": {
      "text/plain": [
       "('without', 'abstract')                                                                                                                                                                                                                                                                                                                                                                     4970\n",
       "('first', 'page', 'of', 'the', 'article')                                                                                                                                                                                                                                                                                                                                                   2994\n",
       "('no', 'abstract', 'available')                                                                                                                                                                                                                                                                                                                                                             1902\n",
       "('an', 'abstract', 'is', 'not', 'available')                                                                                                                                                                                                                                                                                                                                                 536\n",
       "('ohne', 'zusammenfassung')                                                                                                                                                                                                                                                                                                                                                                  319\n",
       "('abstract',)                                                                                                                                                                                                                                                                                                                                                                                262\n",
       "('supplementary', 'data', 'are', 'available', 'at', 'bioinformatics', 'online')                                                                                                                                                                                                                                                                                                              234\n",
       "('presents', 'the', 'guest', 'editorial', 'for', 'this', 'issue', 'of', 'the', 'publication')                                                                                                                                                                                                                                                                                                176\n",
       "('presents', 'the', 'president', \"'s\", 'message', 'for', 'this', 'issue', 'of', 'the', 'publication')                                                                                                                                                                                                                                                                                        175\n",
       "('presents', 'the', 'introductory', 'editorial', 'for', 'this', 'issue', 'of', 'the', 'publication')                                                                                                                                                                                                                                                                                         174\n",
       "('through', 'the', 'past', 'two', 'decades', 'education', 'in', 'computer', 'and', 'information', 'science', 'and', 'technology', 'cise', 'has', 'moved', 'toward', 'a', 'model', 'that', 'pervasively', 'incorporates', 'programming', 'projects', 'and', 'other', 'engaging', 'student', 'activity', 'realistic', 'activities', 'and', 'materials', 'are')                                  91\n",
       "('presents', 'the', 'editorial', 'for', 'this', 'issue', 'of', 'the', 'publication')                                                                                                                                                                                                                                                                                                          85\n",
       "('all', 'over', 'the', 'world', 'software', 'industry', 'is', 'facing', 'the', 'threatening', 'failure', 'rate', 'of', 'software', 'projects', 'the', 'scenario', 'is', 'worst', 'in', 'pakistan', 'having', 'very', 'immature', 'software', 'industry', 'where', 'projects', 'are', 'mostly', 'over', 'budgeted', 'over', 'scheduled', 'and', 'get', 'low', 'customer', 'satisfaction')      78\n",
       "('service', 'level', 'agreements', 'slas', 'is', 'currently', 'one', 'of', 'the', 'major', 'research', 'topics', 'in', 'grid', 'computing', 'among', 'many', 'system', 'components', 'for', 'the', 'supporting', 'of', 'sla-aware', 'grid-based', 'workflow', 'the', 'sla', 'mapping', 'module', 'receives', 'important', 'positions', 'optimizing', 'execution')                             63\n",
       "('ogsa-dai', 'provides', 'an', 'extensible', 'web', 'service-based', 'framework', 'that', 'allows', 'data', 'resources', 'to', 'be', 'incorporated', 'into', 'grid', 'fabrics', 'the', 'current', 'ogsa-dai', 'release', 'ogsa-dai', 'gt', '3.0', 'published', 'in', 'sep', '2007', 'is', 'a', 'complete', 'rewrite', 'of', 'its', 'former', 'version', 'in', 'this')                         61\n",
       "('start', 'of', 'the', 'above-titled', 'section', 'of', 'the', 'conference', 'proceedings', 'record')                                                                                                                                                                                                                                                                                         60\n",
       "('there', 'are', 'plenty', 'of', 'correlations', 'in', 'infrared', 'remote', 'images', 'that', 'intensities', 'of', 'edge', 'are', 'as', 'a', 'regradually', 'changed', 'as', 'a', 'result', 'infrared', 'images', 'usually', 'seem', 'to', 'be', 'blurry', 'consequently', 'the', 'correlations', 'can', 'be', 'utilized', 'to', 'perform', 'eficiently', 'coding', 'the')                   59\n",
       "('speculative', 'execution', 'of', 'information', 'gathering', 'plans', 'can', 'dramatically', 'reduce', 'the', 'effect', 'of', 'source', 'i/o', 'latencies', 'on', 'overall', 'performance', 'however', 'the', 'utility', 'of', 'speculation', 'is', 'closely', 'tied', 'to', 'how', 'accurately', 'data', 'values', 'are', 'predicted', 'at', 'runtime', 'caching')                         55\n",
       "('evolutionary', 'multiobjective', 'optimization', 'emo', 'is', 'an', 'active', 'research', 'area', 'in', 'the', 'field', 'of', 'evolutionary', 'computation', 'emo', 'algorithms', 'are', 'designed', 'to', 'find', 'a', 'non-dominated', 'solution', 'set', 'that', 'approximates', 'the', 'entire', 'pareto', 'front', 'of', 'a', 'multiobjective', 'optimization')                        52\n",
       "Name: words_abstract, dtype: int64"
      ]
     },
     "execution_count": 14,
     "metadata": {},
     "output_type": "execute_result"
    }
   ],
   "source": [
    "distr[distr > 50]"
   ]
  },
  {
   "cell_type": "code",
   "execution_count": 15,
   "id": "13f07463",
   "metadata": {},
   "outputs": [],
   "source": [
    "df = df[df.words_abstract.isin(distr[distr < 262 ].index)]"
   ]
  },
  {
   "cell_type": "code",
   "execution_count": 16,
   "id": "807cbd37",
   "metadata": {},
   "outputs": [
    {
     "data": {
      "text/plain": [
       "(3853305, 4)"
      ]
     },
     "execution_count": 16,
     "metadata": {},
     "output_type": "execute_result"
    }
   ],
   "source": [
    "df.shape"
   ]
  },
  {
   "cell_type": "code",
   "execution_count": 17,
   "id": "3fe9d313",
   "metadata": {},
   "outputs": [
    {
     "data": {
      "text/html": [
       "<div>\n",
       "<style scoped>\n",
       "    .dataframe tbody tr th:only-of-type {\n",
       "        vertical-align: middle;\n",
       "    }\n",
       "\n",
       "    .dataframe tbody tr th {\n",
       "        vertical-align: top;\n",
       "    }\n",
       "\n",
       "    .dataframe thead th {\n",
       "        text-align: right;\n",
       "    }\n",
       "</style>\n",
       "<table border=\"1\" class=\"dataframe\">\n",
       "  <thead>\n",
       "    <tr style=\"text-align: right;\">\n",
       "      <th></th>\n",
       "      <th>_id</th>\n",
       "      <th>words_abstract</th>\n",
       "      <th>lang</th>\n",
       "      <th>detect_lang</th>\n",
       "    </tr>\n",
       "  </thead>\n",
       "  <tbody>\n",
       "    <tr>\n",
       "      <th>13405</th>\n",
       "      <td>56d849a9dabfae2eeeca936f</td>\n",
       "      <td>('supplementary', 'data', 'are', 'available', ...</td>\n",
       "      <td>en</td>\n",
       "      <td>ca</td>\n",
       "    </tr>\n",
       "    <tr>\n",
       "      <th>25412</th>\n",
       "      <td>56d89cdfdabfae2eee457d5c</td>\n",
       "      <td>('supplementary', 'data', 'are', 'available', ...</td>\n",
       "      <td>en</td>\n",
       "      <td>ca</td>\n",
       "    </tr>\n",
       "    <tr>\n",
       "      <th>22619</th>\n",
       "      <td>573695db6e3b12023e4f275e</td>\n",
       "      <td>('supplementary', 'data', 'are', 'available', ...</td>\n",
       "      <td>en</td>\n",
       "      <td>cy</td>\n",
       "    </tr>\n",
       "    <tr>\n",
       "      <th>9033</th>\n",
       "      <td>5958eed70cf2596dc61e72b0</td>\n",
       "      <td>('supplementary', 'data', 'are', 'available', ...</td>\n",
       "      <td>en</td>\n",
       "      <td>ca</td>\n",
       "    </tr>\n",
       "    <tr>\n",
       "      <th>26587</th>\n",
       "      <td>599c78ed601a182cd26016b4</td>\n",
       "      <td>('supplementary', 'data', 'are', 'available', ...</td>\n",
       "      <td>en</td>\n",
       "      <td>ca</td>\n",
       "    </tr>\n",
       "    <tr>\n",
       "      <th>...</th>\n",
       "      <td>...</td>\n",
       "      <td>...</td>\n",
       "      <td>...</td>\n",
       "      <td>...</td>\n",
       "    </tr>\n",
       "    <tr>\n",
       "      <th>26945</th>\n",
       "      <td>5ff9867cd4150a363cf4e040</td>\n",
       "      <td>('supplementary', 'data', 'are', 'available', ...</td>\n",
       "      <td>NaN</td>\n",
       "      <td>cy</td>\n",
       "    </tr>\n",
       "    <tr>\n",
       "      <th>26946</th>\n",
       "      <td>5ff9867cd4150a363cf4e200</td>\n",
       "      <td>('supplementary', 'data', 'are', 'available', ...</td>\n",
       "      <td>NaN</td>\n",
       "      <td>ca</td>\n",
       "    </tr>\n",
       "    <tr>\n",
       "      <th>26947</th>\n",
       "      <td>5ff9867cd4150a363cf4e27e</td>\n",
       "      <td>('supplementary', 'data', 'are', 'available', ...</td>\n",
       "      <td>NaN</td>\n",
       "      <td>cy</td>\n",
       "    </tr>\n",
       "    <tr>\n",
       "      <th>40679</th>\n",
       "      <td>600958dad4150a363cfd6bb8</td>\n",
       "      <td>('supplementary', 'data', 'are', 'available', ...</td>\n",
       "      <td>NaN</td>\n",
       "      <td>cy</td>\n",
       "    </tr>\n",
       "    <tr>\n",
       "      <th>1771</th>\n",
       "      <td>60225eb6af79179a99cb121f</td>\n",
       "      <td>('supplementary', 'data', 'are', 'available', ...</td>\n",
       "      <td>NaN</td>\n",
       "      <td>cy</td>\n",
       "    </tr>\n",
       "  </tbody>\n",
       "</table>\n",
       "<p>234 rows × 4 columns</p>\n",
       "</div>"
      ],
      "text/plain": [
       "                            _id  \\\n",
       "13405  56d849a9dabfae2eeeca936f   \n",
       "25412  56d89cdfdabfae2eee457d5c   \n",
       "22619  573695db6e3b12023e4f275e   \n",
       "9033   5958eed70cf2596dc61e72b0   \n",
       "26587  599c78ed601a182cd26016b4   \n",
       "...                         ...   \n",
       "26945  5ff9867cd4150a363cf4e040   \n",
       "26946  5ff9867cd4150a363cf4e200   \n",
       "26947  5ff9867cd4150a363cf4e27e   \n",
       "40679  600958dad4150a363cfd6bb8   \n",
       "1771   60225eb6af79179a99cb121f   \n",
       "\n",
       "                                          words_abstract lang detect_lang  \n",
       "13405  ('supplementary', 'data', 'are', 'available', ...   en          ca  \n",
       "25412  ('supplementary', 'data', 'are', 'available', ...   en          ca  \n",
       "22619  ('supplementary', 'data', 'are', 'available', ...   en          cy  \n",
       "9033   ('supplementary', 'data', 'are', 'available', ...   en          ca  \n",
       "26587  ('supplementary', 'data', 'are', 'available', ...   en          ca  \n",
       "...                                                  ...  ...         ...  \n",
       "26945  ('supplementary', 'data', 'are', 'available', ...  NaN          cy  \n",
       "26946  ('supplementary', 'data', 'are', 'available', ...  NaN          ca  \n",
       "26947  ('supplementary', 'data', 'are', 'available', ...  NaN          cy  \n",
       "40679  ('supplementary', 'data', 'are', 'available', ...  NaN          cy  \n",
       "1771   ('supplementary', 'data', 'are', 'available', ...  NaN          cy  \n",
       "\n",
       "[234 rows x 4 columns]"
      ]
     },
     "execution_count": 17,
     "metadata": {},
     "output_type": "execute_result"
    }
   ],
   "source": [
    "df[df.words_abstract == \"('supplementary', 'data', 'are', 'available', 'at', 'bioinformatics', 'online')\"]"
   ]
  },
  {
   "cell_type": "code",
   "execution_count": 18,
   "id": "0b85b3e2",
   "metadata": {},
   "outputs": [],
   "source": [
    "df['abstract_length'] = df.words_abstract.apply(lambda x: len(x[1:-1].split(', ')))"
   ]
  },
  {
   "cell_type": "code",
   "execution_count": 19,
   "id": "77da1bd5",
   "metadata": {},
   "outputs": [],
   "source": [
    "df = df[df.abstract_length >= 5]"
   ]
  },
  {
   "cell_type": "code",
   "execution_count": 20,
   "id": "37b2431e",
   "metadata": {},
   "outputs": [
    {
     "data": {
      "text/plain": [
       "(3852394, 5)"
      ]
     },
     "execution_count": 20,
     "metadata": {},
     "output_type": "execute_result"
    }
   ],
   "source": [
    "df.shape"
   ]
  },
  {
   "cell_type": "code",
   "execution_count": 21,
   "id": "9c0067ce",
   "metadata": {},
   "outputs": [
    {
     "name": "stdout",
     "output_type": "stream",
     "text": [
      "8.3 33.3 16.7 41.7 41.7 16.7 25.0 16.7 25.0 58.3 16.7 33.3 8.3 25.0 33.3 41.7 50.0 8.3 41.7 16.7 41.7 66.7 25.0 8.3 91.7 8.3 91.7 8.3 91.7 8.3 25.0 41.7 8.3 25.0 100.0 58.3 33.3 8.3 100.0 83.3 16.7 66.7 8.3 25.0 75.0 8.3 16.7 100.0 75.0 25.0 100.0 33.3 33.3 16.7 16.7 83.3 8.3 8.3 100.0 41.7 16.7 41.7\n",
      "÷ ÷ ÷ ÷ ÷ ÷ ÷ ÷ ÷ ÷ ÷ ÷ ÷ ÷ ÷ ÷ ÷ ÷ ÷ ÷ ÷ ÷ ÷\n",
      "÷++++÷÷÷÷+÷++÷÷ ÷÷+++++÷+÷ ÷÷+÷++÷++÷ ÷ ÷+++÷+÷ ÷÷+÷++÷÷÷÷÷÷ ÷+++++÷÷÷++÷ ÷+~++÷++÷ ÷++++÷÷+++÷ ÷++÷ • •\n",
      "1 2 3 4 5 6 7 8 9 10 11 12 13 14 15 16 17 18 19 20 21 22 23 24 25 26 27 28 29 30 31 32 33 34 35 36 37 38 39 40 41 42 43 44 45 46\n",
      "a❑ ❑ — ❑ — ’ ‘ ’ ’ ’ ” ’ ” ‘ ‘ ’ ” “ “ ’ ’ ’ ’ ’ — — ‘ ‘ ‘ ‘ “ ‘ ‘ ‘ “ ‘ “ l — ’ ’ ’ “\n",
      "— ❑ ❑ “ ’ ’\n",
      "● ● ● ● ● ● ✎ ● ● ● ● ● ● ● ● ● ● ● ● ✎ ● ” — — — a — “ ” ”\n",
      "— —+— i n — ’ — — ” ” ‘ ’ ’ ” ’ ’ ’ ’ ’ ‘ ‘ “ “ “ ’ ‘ ‘ ‘ “ ’ ‘ ‘ t ’ ’ ’ “ ‘ ” ’ ‘ ’ ’ “ ” — ’ “ ’ ’ ’ ’ ’ ’ ’ ’ “ ’ “ ’ ’ ’ ’ ’ ” ’ ’ ’ ” ” ” ‘ ” ’ ’ ‘ ’ ’ ‘ ’ ’ ’ ’ ’ ’ ’ ” ” ” ” ’ ” ’ ’ ” ’ ’ ’ ’ “ ” ” “ ” ” ” ”\n",
      "“ ‘ ’ ‘ ’ ‘ ‘ ’ ’ ’ ● ● “ ” “ ”\n",
      "“ i “ “ ‘ ● “ ● ● n ❑\n",
      "÷ ÷ ÷ ÷ ÷ ÷ ÷ ÷ ÷ ÷ ÷ ÷ ÷ •\n",
      "• •° ° ° ° ° °° ° • • • • • • ° ° ° • • ° ° • • • • • •\n",
      "— ’ “ ‘ ‘ ‘ ‘ ● —-— – “ — — — —— —— ‘ ‘ ‘ “ ‘ — ‘ ‘ ‘ ‘ ‘ ‘ ‘ ‘ ‘ “ ‘ ‘ ‘ ‘ ‘ ‘ ‘ ‘ ‘ ‘ ‘ “ ’ ” ‘ ‘ ‘ ‘ ‘ ‘ ‘ ‘ “ ‘ ‘ “ “ ‘ ‘ ‘ ‘ ‘ ‘ ‘ ‘ ‘ ‘ ‘ ‘ ‘ ‘ ‘ ‘ ‘ ‘ ‘ ‘ ‘ ‘ ‘ ‘\n",
      "t • • • • •\n"
     ]
    }
   ],
   "source": [
    "df.detect_lang = df.words_abstract.apply(detect_lang)"
   ]
  },
  {
   "cell_type": "code",
   "execution_count": null,
   "id": "a1f4e8a3",
   "metadata": {},
   "outputs": [],
   "source": [
    "# TODO просмотреть где несовпадают языки, выгрузить все id и пометить дубликаты/норм/ненорм"
   ]
  },
  {
   "cell_type": "code",
   "execution_count": 32,
   "id": "1a337815",
   "metadata": {},
   "outputs": [],
   "source": [
    "df = df[df.detect_lang.notna()]"
   ]
  },
  {
   "cell_type": "code",
   "execution_count": 33,
   "id": "92b86640",
   "metadata": {},
   "outputs": [
    {
     "data": {
      "text/plain": [
       "(3852380, 5)"
      ]
     },
     "execution_count": 33,
     "metadata": {},
     "output_type": "execute_result"
    }
   ],
   "source": [
    "df.shape"
   ]
  },
  {
   "cell_type": "code",
   "execution_count": 34,
   "id": "f089b861",
   "metadata": {},
   "outputs": [],
   "source": [
    "df.to_csv('clear_abstract_with_detect_lang.csv')"
   ]
  },
  {
   "cell_type": "code",
   "execution_count": null,
   "id": "18ad6a86",
   "metadata": {},
   "outputs": [],
   "source": [
    "# понравилось как детектид"
   ]
  },
  {
   "cell_type": "code",
   "execution_count": 36,
   "id": "f0c797d2",
   "metadata": {},
   "outputs": [],
   "source": [
    "df = df[df.detect_lang == 'en']"
   ]
  },
  {
   "cell_type": "code",
   "execution_count": 37,
   "id": "05224f87",
   "metadata": {},
   "outputs": [
    {
     "data": {
      "text/plain": [
       "(3841443, 5)"
      ]
     },
     "execution_count": 37,
     "metadata": {},
     "output_type": "execute_result"
    }
   ],
   "source": [
    "df.shape"
   ]
  },
  {
   "cell_type": "code",
   "execution_count": 42,
   "id": "8a5cc0be",
   "metadata": {},
   "outputs": [
    {
     "data": {
      "text/html": [
       "<div>\n",
       "<style scoped>\n",
       "    .dataframe tbody tr th:only-of-type {\n",
       "        vertical-align: middle;\n",
       "    }\n",
       "\n",
       "    .dataframe tbody tr th {\n",
       "        vertical-align: top;\n",
       "    }\n",
       "\n",
       "    .dataframe thead th {\n",
       "        text-align: right;\n",
       "    }\n",
       "</style>\n",
       "<table border=\"1\" class=\"dataframe\">\n",
       "  <thead>\n",
       "    <tr style=\"text-align: right;\">\n",
       "      <th></th>\n",
       "      <th>_id</th>\n",
       "      <th>words_abstract</th>\n",
       "      <th>lang</th>\n",
       "      <th>detect_lang</th>\n",
       "      <th>abstract_length</th>\n",
       "    </tr>\n",
       "  </thead>\n",
       "  <tbody>\n",
       "    <tr>\n",
       "      <th>9402</th>\n",
       "      <td>5d36e025275ded87f97a85a8</td>\n",
       "      <td>('fast', 'and', 'accurate', 'molecular', 'forc...</td>\n",
       "      <td>NaN</td>\n",
       "      <td>en</td>\n",
       "      <td>162</td>\n",
       "    </tr>\n",
       "    <tr>\n",
       "      <th>9403</th>\n",
       "      <td>5d36e025275ded87f97a863f</td>\n",
       "      <td>('replicating', 'recombinant', 'vector', 'vacc...</td>\n",
       "      <td>NaN</td>\n",
       "      <td>en</td>\n",
       "      <td>228</td>\n",
       "    </tr>\n",
       "    <tr>\n",
       "      <th>9404</th>\n",
       "      <td>5d36e025275ded87f97a8642</td>\n",
       "      <td>('exposure', 'to', 'the', 'environmental', 'to...</td>\n",
       "      <td>NaN</td>\n",
       "      <td>en</td>\n",
       "      <td>108</td>\n",
       "    </tr>\n",
       "    <tr>\n",
       "      <th>9405</th>\n",
       "      <td>5d36e026275ded87f97a8704</td>\n",
       "      <td>('in', 'this', 'paper', 'we', 'studied', 'a', ...</td>\n",
       "      <td>NaN</td>\n",
       "      <td>en</td>\n",
       "      <td>174</td>\n",
       "    </tr>\n",
       "    <tr>\n",
       "      <th>9406</th>\n",
       "      <td>5d36e026275ded87f97a8706</td>\n",
       "      <td>('positive', 'affective', 'touch', 'plays', 'a...</td>\n",
       "      <td>NaN</td>\n",
       "      <td>en</td>\n",
       "      <td>250</td>\n",
       "    </tr>\n",
       "    <tr>\n",
       "      <th>...</th>\n",
       "      <td>...</td>\n",
       "      <td>...</td>\n",
       "      <td>...</td>\n",
       "      <td>...</td>\n",
       "      <td>...</td>\n",
       "    </tr>\n",
       "    <tr>\n",
       "      <th>15589</th>\n",
       "      <td>60815a84e4510cd7c8660941</td>\n",
       "      <td>('board', 'games', 'have', 'become', 'promisin...</td>\n",
       "      <td>NaN</td>\n",
       "      <td>en</td>\n",
       "      <td>62</td>\n",
       "    </tr>\n",
       "    <tr>\n",
       "      <th>15590</th>\n",
       "      <td>60815a84e4510cd7c8660946</td>\n",
       "      <td>('practical', 'autonomous', 'driving', 'system...</td>\n",
       "      <td>NaN</td>\n",
       "      <td>en</td>\n",
       "      <td>65</td>\n",
       "    </tr>\n",
       "    <tr>\n",
       "      <th>15591</th>\n",
       "      <td>60815a84e4510cd7c8660947</td>\n",
       "      <td>('scene', 'geometry', 'estimation', 'and', 'se...</td>\n",
       "      <td>NaN</td>\n",
       "      <td>en</td>\n",
       "      <td>55</td>\n",
       "    </tr>\n",
       "    <tr>\n",
       "      <th>15592</th>\n",
       "      <td>60815a84e4510cd7c8660949</td>\n",
       "      <td>('performance', 'monitoring', 'of', 'object', ...</td>\n",
       "      <td>NaN</td>\n",
       "      <td>en</td>\n",
       "      <td>56</td>\n",
       "    </tr>\n",
       "    <tr>\n",
       "      <th>15593</th>\n",
       "      <td>60815a84e4510cd7c866094a</td>\n",
       "      <td>('computer', 'vision', 'has', 'achieved', 'sup...</td>\n",
       "      <td>NaN</td>\n",
       "      <td>en</td>\n",
       "      <td>61</td>\n",
       "    </tr>\n",
       "  </tbody>\n",
       "</table>\n",
       "<p>343921 rows × 5 columns</p>\n",
       "</div>"
      ],
      "text/plain": [
       "                            _id  \\\n",
       "9402   5d36e025275ded87f97a85a8   \n",
       "9403   5d36e025275ded87f97a863f   \n",
       "9404   5d36e025275ded87f97a8642   \n",
       "9405   5d36e026275ded87f97a8704   \n",
       "9406   5d36e026275ded87f97a8706   \n",
       "...                         ...   \n",
       "15589  60815a84e4510cd7c8660941   \n",
       "15590  60815a84e4510cd7c8660946   \n",
       "15591  60815a84e4510cd7c8660947   \n",
       "15592  60815a84e4510cd7c8660949   \n",
       "15593  60815a84e4510cd7c866094a   \n",
       "\n",
       "                                          words_abstract lang detect_lang  \\\n",
       "9402   ('fast', 'and', 'accurate', 'molecular', 'forc...  NaN          en   \n",
       "9403   ('replicating', 'recombinant', 'vector', 'vacc...  NaN          en   \n",
       "9404   ('exposure', 'to', 'the', 'environmental', 'to...  NaN          en   \n",
       "9405   ('in', 'this', 'paper', 'we', 'studied', 'a', ...  NaN          en   \n",
       "9406   ('positive', 'affective', 'touch', 'plays', 'a...  NaN          en   \n",
       "...                                                  ...  ...         ...   \n",
       "15589  ('board', 'games', 'have', 'become', 'promisin...  NaN          en   \n",
       "15590  ('practical', 'autonomous', 'driving', 'system...  NaN          en   \n",
       "15591  ('scene', 'geometry', 'estimation', 'and', 'se...  NaN          en   \n",
       "15592  ('performance', 'monitoring', 'of', 'object', ...  NaN          en   \n",
       "15593  ('computer', 'vision', 'has', 'achieved', 'sup...  NaN          en   \n",
       "\n",
       "       abstract_length  \n",
       "9402               162  \n",
       "9403               228  \n",
       "9404               108  \n",
       "9405               174  \n",
       "9406               250  \n",
       "...                ...  \n",
       "15589               62  \n",
       "15590               65  \n",
       "15591               55  \n",
       "15592               56  \n",
       "15593               61  \n",
       "\n",
       "[343921 rows x 5 columns]"
      ]
     },
     "execution_count": 42,
     "metadata": {},
     "output_type": "execute_result"
    }
   ],
   "source": [
    "df[df.lang.isna()]  "
   ]
  },
  {
   "cell_type": "code",
   "execution_count": 53,
   "id": "0e4f6c9d",
   "metadata": {},
   "outputs": [],
   "source": [
    "duplicates = df.words_abstract.value_counts()\n",
    "duplicates = duplicates[duplicates.between(2, 262, inclusive='left')]"
   ]
  },
  {
   "cell_type": "code",
   "execution_count": 54,
   "id": "8c72c9ee",
   "metadata": {},
   "outputs": [
    {
     "data": {
      "text/plain": [
       "65111"
      ]
     },
     "execution_count": 54,
     "metadata": {},
     "output_type": "execute_result"
    }
   ],
   "source": [
    "duplicates.sum()"
   ]
  },
  {
   "cell_type": "code",
   "execution_count": 62,
   "id": "2107409f",
   "metadata": {},
   "outputs": [
    {
     "data": {
      "text/plain": [
       "55"
      ]
     },
     "execution_count": 62,
     "metadata": {},
     "output_type": "execute_result"
    }
   ],
   "source": [
    "duplicates.nunique()"
   ]
  },
  {
   "cell_type": "code",
   "execution_count": 55,
   "id": "6de0247b",
   "metadata": {},
   "outputs": [
    {
     "data": {
      "text/plain": [
       "Index(['('supplementary', 'data', 'are', 'available', 'at', 'bioinformatics', 'online')',\n",
       "       '('presents', 'the', 'guest', 'editorial', 'for', 'this', 'issue', 'of', 'the', 'publication')',\n",
       "       '('presents', 'the', 'president', \"'s\", 'message', 'for', 'this', 'issue', 'of', 'the', 'publication')',\n",
       "       '('presents', 'the', 'introductory', 'editorial', 'for', 'this', 'issue', 'of', 'the', 'publication')',\n",
       "       '('through', 'the', 'past', 'two', 'decades', 'education', 'in', 'computer', 'and', 'information', 'science', 'and', 'technology', 'cise', 'has', 'moved', 'toward', 'a', 'model', 'that', 'pervasively', 'incorporates', 'programming', 'projects', 'and', 'other', 'engaging', 'student', 'activity', 'realistic', 'activities', 'and', 'materials', 'are')',\n",
       "       '('presents', 'the', 'editorial', 'for', 'this', 'issue', 'of', 'the', 'publication')',\n",
       "       '('all', 'over', 'the', 'world', 'software', 'industry', 'is', 'facing', 'the', 'threatening', 'failure', 'rate', 'of', 'software', 'projects', 'the', 'scenario', 'is', 'worst', 'in', 'pakistan', 'having', 'very', 'immature', 'software', 'industry', 'where', 'projects', 'are', 'mostly', 'over', 'budgeted', 'over', 'scheduled', 'and', 'get', 'low', 'customer', 'satisfaction')',\n",
       "       '('service', 'level', 'agreements', 'slas', 'is', 'currently', 'one', 'of', 'the', 'major', 'research', 'topics', 'in', 'grid', 'computing', 'among', 'many', 'system', 'components', 'for', 'the', 'supporting', 'of', 'sla-aware', 'grid-based', 'workflow', 'the', 'sla', 'mapping', 'module', 'receives', 'important', 'positions', 'optimizing', 'execution')',\n",
       "       '('ogsa-dai', 'provides', 'an', 'extensible', 'web', 'service-based', 'framework', 'that', 'allows', 'data', 'resources', 'to', 'be', 'incorporated', 'into', 'grid', 'fabrics', 'the', 'current', 'ogsa-dai', 'release', 'ogsa-dai', 'gt', '3.0', 'published', 'in', 'sep', '2007', 'is', 'a', 'complete', 'rewrite', 'of', 'its', 'former', 'version', 'in', 'this')',\n",
       "       '('start', 'of', 'the', 'above-titled', 'section', 'of', 'the', 'conference', 'proceedings', 'record')',\n",
       "       ...\n",
       "       '('this', 'note', 'calculates', 'the', 'norm', 'of', 'composition', 'followed', 'by', 'differentiation', 'operator', 'from', 'the', 'bloch', 'and', 'the', 'little', 'bloch', 'space', 'to', 'the', 'weighted', 'space', 'hμ∞', 'on', 'the', 'unit', 'disk', 'and', 'gives', 'an', 'upper', 'and', 'a', 'lower', 'bound', 'for', 'the', 'essential', 'norm', 'of', 'the', 'operator', 'from', 'the', 'α-bloch', 'space', 'bα', 'α', '0', 'to', 'hμ∞')',\n",
       "       '('in', 'recent', 'decades', '3d', 'morphable', 'model', '3dmm', 'has', 'been', 'commonly', 'used', 'in', 'image-based', 'photorealistic', '3d', 'face', 'reconstruction', 'however', 'face', 'images', 'are', 'often', 'corrupted', 'by', 'serious', 'occlusion', 'by', 'non-face', 'objects', 'including', 'eyeglasses', 'masks', 'and', 'hands', 'such', 'objects', 'block', 'the', 'correct', 'capture', 'of', 'landmarks', 'and', 'shading', 'information', 'therefore', 'the', 'reconstructed', '3d', 'face', 'model', 'is', 'hardly', 'reusable', 'in', 'this', 'paper', 'a', 'novel', 'method', 'is', 'proposed', 'to', 'restore', 'de-occluded', 'face', 'images', 'based', 'on', 'inverse', 'use', 'of', '3dmm', 'and', 'generative', 'adversarial', 'network', 'we', 'utilize', 'the', '3dmm', 'prior', 'to', 'the', 'proposed', 'adversarial', 'network', 'and', 'combine', 'a', 'global', 'and', 'local', 'adversarial', 'convolutional', 'neural', 'network', 'to', 'learn', 'face', 'de-occlusion', 'model', 'the', '3dmm', 'serves', 'not', 'only', 'as', 'geometric', 'prior', 'but', 'also', 'proposes', 'the', 'face', 'region', 'for', 'the', 'local', 'discriminator', 'experiment', 'results', 'confirm', 'the', 'effectiveness', 'and', 'robustness', 'of', 'the', 'proposed', 'algorithm', 'in', 'removing', 'challenging', 'types', 'of', 'occlusions', 'with', 'various', 'head', 'poses', 'and', 'illumination', 'furthermore', 'the', 'proposed', 'method', 'reconstructs', 'the', 'correct', '3d', 'face', 'model', 'with', 'de-occluded', 'textures')',\n",
       "       '('a', 'fully', 'monolithic', '2', 'times', '2', '2', 'times', '5', 'ghz-band', '2', 'times', '2.4', 'ghz-band', 'power', 'amplifier', 'pa', 'implemented', 'in', 'a', '0.18', 'mum', 'silicon', 'germanium', 'sige', 'hbt', 'process', 'has', 'been', 'developed', 'for', 'a', 'dual', 'band', 'mimo', '802.11n', 'wlan', 'system', 'in', 'order', 'to', 'achieve', 'the', 'required', 'performance', 'for', 'the', '5', 'ghz', 'band', 'while', 'maintaining', 'a', 'high', 'level', 'of', 'integration', 'different', 'approaches', 'have', 'been', 'investigated', 'a', 'special', 'through-wafer-via')',\n",
       "       '('the', 'distortion/interaction-activation', 'strain', 'model', 'd/i-asm', 'a', 'fragment', 'analysis', 'method', 'is', 'applied', 'to', 'study', 'the', 'structure-reactivity', 'relationship', 'in', 'reactions', 'the', 'application', 'of', 'd/i-asm', 'involves', 'the', 'generation', 'of', 'input', 'files', 'for', 'points', 'along', 'a', 'reaction', 'profile', 'submission', 'of', 'input', 'files', 'to', 'a', 'quantum', 'software', 'package', 'processing', 'of', 'parameters', 'from', 'the', 'resulting', 'output', 'files', 'and', 'generation', 'of', 'graphical', 'plots', 'the', 'excelautomat', 'tool', 'laloo', 'et', 'al', 'j', 'comput', 'aided', 'mol', 'des', '2017', '31', '667', 'provides', 'a', 'framework', 'and', 'library', 'in', 'visual', 'basic', 'for', 'application', 'programming', 'language', 'to', 'process', 'such', 'files', 'new', 'routines', 'were', 'written', 'in', 'excelautomat', '1.3', 'to', 'facilitate', 'processing', 'of', 'files', 'for', 'd/i-asm', 'the', 'worksheet', 'asm', 'was', 'included', 'where', 'initial', 'parameters', 'needed', 'can', 'be', 'defined', 'the', 'routines', 'for', 'd/i-asm', 'were', 'tested', 'successfully', 'on', 'bimolecular', 'nucleophilic', 'substitution', 'cycloaddition', 'and', 'barrierless', 'reactions', 'the', 'automation', 'of', 'fragment', 'analysis', 'by', 'excelautomat', '1.3', 'is', 'compatible', 'with', 'microsoft', 'excel', 'and', 'libreoffice', 'calc', 'the', 'extensible', 'tool', 'processes', 'files', 'from', 'gaussian', 'and', 'gamess-us', 'packages', 'c', '2018', 'wiley', 'periodicals', 'inc')',\n",
       "       '('this', 'poster', 'presents', 'an', 'approach', 'to', 'distributed', 'seismic', 'data', 'processing', 'using', 'seismic', 'un', 'x', 'software', 'and', 'the', 'active', 'storage', 'system', 'based', 'on', 'tsim', 'c', 'template', 'library', 'and', 'the', 'lustre', 'file', 'system', 'active', 'storage', 'concept', 'implies', 'the', 'use', 'of', 'distributed', 'system', 'architecture', 'where', 'each', 'node', 'has', 'processing', 'and', 'storage', 'capabilities', 'data', 'are', 'distributed', 'accross', 'these', 'nodes', 'computational', 'tasks', 'are', 'submitted', 'to', 'the', 'most', 'suitable', 'nodes', 'to', 'reduce', 'network', 'traffic', 'the', 'main', 'benefits', 'of', 'our', 'approach', 'are', 'the', 'following', 'effective', 'storing', 'and', 'processing', 'of', 'seismic', 'data', 'with', 'minimal', 'changes', 'in', 'cwp/su', 'modules', 'performance', 'testing', 'shows', 'that', 'the', 'active', 'storage', 'system', 'is', 'effective', 'meta-programming', 'with', 'c', 'templates', 'permits', 'a', 'flexible', 'implementation', 'of', 'scheduling', 'algorithms', 'the', 'study', 'analyzes', 'performance', 'results', 'of', 'the', 'developed', 'system', 'as', 'well', 'as', 'the', 'usability', 'of', 'active', 'storage', 'and', 'seismic', 'unix', 'integration', 'in', 'the', 'nearest', 'future', 'we', 'will', 'get', 'results', 'for', 'a', '1.2', 'tb', 'data', 'file')',\n",
       "       '('wireless', 'communication', 'is', 'continuing', 'to', 'make', 'inroads', 'into', 'many', 'facets', 'of', 'society', 'and', 'is', 'gradually', 'becoming', 'more', 'and', 'more', 'ubiquitous', 'while', 'in', 'the', 'past', 'wireless', 'communication', 'as', 'well', 'as', 'mobility', 'was', 'largely', 'limited', 'to', 'the', 'first', 'and', 'last', 'transmission', 'hops', 'today', \"'s\", 'wireless', 'networks', 'are', 'starting', 'to', 'offer', 'purely', 'wireless', 'often', 'mobile', 'and', 'even', 'opportunistically', 'connected', 'operation', 'the', 'purpose', 'of', 'this', 'article', 'is', 'to', 'examine', 'security', 'and', 'privacy', 'issues', 'in', 'some', 'new', 'and', 'emerging', 'types', 'of', 'wireless', 'networks', 'and', 'attempt', 'to', 'identify', 'directions', 'for', 'future', 'research')',\n",
       "       '('we', 'study', 'fairness', 'in', 'classification', 'where', 'individuals', 'are', 'classified', 'e.g', 'admitted', 'to', 'a', 'university', 'and', 'the', 'goal', 'is', 'to', 'prevent', 'discrimination', 'against', 'individuals', 'based', 'on', 'their', 'membership', 'in', 'some', 'group', 'while', 'maintaining', 'utility', 'for', 'the', 'classifier', 'the', 'university', 'the', 'main', 'conceptual', 'contribution', 'of', 'this', 'paper', 'is', 'a', 'framework', 'for', 'fair', 'classification', 'comprising', '1', 'a', 'hypothetical', 'task-specific', 'metric', 'for', 'determining', 'the', 'degree', 'to', 'which', 'individuals', 'are', 'similar', 'with', 'respect', 'to', 'the', 'classification', 'task', 'at', 'hand', '2', 'an', 'algorithm', 'for', 'maximizing', 'utility', 'subject', 'to', 'the', 'fairness', 'constraint', 'that', 'similar', 'individuals', 'are', 'treated', 'similarly', 'we', 'also', 'present', 'an', 'adaptation', 'of', 'our', 'approach', 'to', 'achieve', 'the', 'complementary', 'goal', 'of', 'fair', 'affirmative', 'action', 'which', 'guarantees', 'statistical', 'parity', 'i.e', 'the', 'demographics', 'of', 'the', 'set', 'of', 'individuals', 'receiving', 'any', 'classification', 'are', 'the', 'same', 'as', 'the', 'demographics', 'of', 'the', 'underlying', 'population', 'while', 'treating', 'similar', 'individuals', 'as', 'similarly', 'as', 'possible', 'finally', 'we', 'discuss', 'the', 'relationship', 'of', 'fairness', 'to', 'privacy', 'when', 'fairness', 'implies', 'privacy', 'and', 'how', 'tools', 'developed', 'in', 'the', 'context', 'of', 'differential', 'privacy', 'may', 'be', 'applied', 'to', 'fairness')',\n",
       "       '('a', 'counterexample', 'to', 'a', 'theorem', 'given', 'in', 'a', 'paper', 'by', 't.-y', 'cheung', 'see', 'ibid', 'vol.12', 'no.11', 'p.1088-9', '1986', 'is', 'given', 'in', 'a', 'reply', 'the', 'author', 'of', 'the', 'original', 'paper', 'argues', 'that', 'the', 'counterexample', 'is', 'not', 'correct')',\n",
       "       '('the', 'huge', 'amount', 'of', 'available', 'data', 'nowadays', 'is', 'a', 'challenge', 'for', 'kernel-based', 'machine', 'learning', 'algorithms', 'like', 'svms', 'with', 'respect', 'to', 'runtime', 'and', 'storage', 'capacities', 'local', 'approaches', 'might', 'help', 'to', 'relieve', 'these', 'issues', 'and', 'to', 'improve', 'statistical', 'accuracy', 'it', 'has', 'already', 'been', 'shown', 'that', 'these', 'local', 'approaches', 'are', 'consistent', 'and', 'robust', 'in', 'a', 'basic', 'sense', 'this', 'article', 'refines', 'the', 'analysis', 'of', 'robustness', 'properties', 'towards', 'the', 'so-called', 'influence', 'function', 'which', 'expresses', 'the', 'differentiability', 'of', 'the', 'learning', 'method', 'we', 'show', 'that', 'there', 'is', 'a', 'differentiable', 'dependency', 'of', 'our', 'locally', 'learned', 'predictor', 'on', 'the', 'underlying', 'distribution', 'the', 'assumptions', 'of', 'the', 'proven', 'theorems', 'can', 'be', 'verified', 'without', 'knowing', 'anything', 'about', 'this', 'distribution', 'this', 'makes', 'the', 'results', 'interesting', 'also', 'from', 'an', 'applied', 'point', 'of', 'view')',\n",
       "       '('in', 'this', 'paper', 'we', 'investigate', 'the', 'equations', 'x±a∗x−na=q', 'for', 'the', 'existence', 'of', 'positive', 'definite', 'solutions', 'and', 'perturbation', 'bounds', 'for', 'these', 'solutions', 'are', 'derived', 'a', 'sufficient', 'condition', 'for', 'uniqueness', 'of', 'a', 'unique', 'positive', 'definite', 'solution', 'of', 'the', 'equation', 'x−a∗x−na=q', 'is', 'given', 'the', 'results', 'are', 'illustrated', 'by', 'using', 'numerical', 'examples')'],\n",
       "      dtype='object', length=28722)"
      ]
     },
     "execution_count": 55,
     "metadata": {},
     "output_type": "execute_result"
    }
   ],
   "source": [
    "duplicates.index"
   ]
  },
  {
   "cell_type": "code",
   "execution_count": 56,
   "id": "fb86d72a",
   "metadata": {},
   "outputs": [],
   "source": [
    "df['is_good_abstract'] = df.words_abstract.apply(lambda x: 'd' if x in duplicates.index else 1)"
   ]
  },
  {
   "cell_type": "code",
   "execution_count": 64,
   "id": "4920d3ab",
   "metadata": {},
   "outputs": [
    {
     "data": {
      "text/plain": [
       "1    3776332\n",
       "d      65111\n",
       "Name: is_good_abstract, dtype: int64"
      ]
     },
     "execution_count": 64,
     "metadata": {},
     "output_type": "execute_result"
    }
   ],
   "source": [
    "df.is_good_abstract.value_counts()"
   ]
  },
  {
   "cell_type": "code",
   "execution_count": 59,
   "id": "05bfaafb",
   "metadata": {},
   "outputs": [],
   "source": [
    "df[['_id', 'is_good_abstract']].to_csv('good_abstract_or_duplicates.csv')"
   ]
  },
  {
   "cell_type": "code",
   "execution_count": null,
   "id": "d8e2f1db",
   "metadata": {},
   "outputs": [],
   "source": []
  }
 ],
 "metadata": {
  "kernelspec": {
   "display_name": "Python 3 (ipykernel)",
   "language": "python",
   "name": "python3"
  },
  "language_info": {
   "codemirror_mode": {
    "name": "ipython",
    "version": 3
   },
   "file_extension": ".py",
   "mimetype": "text/x-python",
   "name": "python",
   "nbconvert_exporter": "python",
   "pygments_lexer": "ipython3",
   "version": "3.10.7"
  }
 },
 "nbformat": 4,
 "nbformat_minor": 5
}
