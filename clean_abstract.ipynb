{
 "cells": [
  {
   "cell_type": "markdown",
   "id": "8d6798cd",
   "metadata": {},
   "source": [
    "1. Каждый абстракт должен быть уникальным (вроде нет)\n",
    "2. фразы типа Presents the welcome message from the conference proceedings\n",
    "\n",
    "No abstract is available.\n",
    "\n",
    "Without Abstract\n",
    "\n",
    "[This corrects the article DOI: 10.1590/S1518-8787.2016050005909.].\n",
    "\n",
    "3. Используем количество слов\n",
    "4. Есть язык но нет абстракт"
   ]
  },
  {
   "cell_type": "code",
   "execution_count": null,
   "id": "30334a10",
   "metadata": {},
   "outputs": [],
   "source": [
    "import pandas as pd\n",
    "import numpy as np\n",
    "import langdetect\n",
    "from textblob import TextBlob\n",
    "\n",
    "from tqdm import tqdm"
   ]
  },
  {
   "cell_type": "code",
   "execution_count": null,
   "id": "0ea0ec97",
   "metadata": {},
   "outputs": [],
   "source": [
    "def detect_lang(string):\n",
    "    try:\n",
    "        if not isinstance(string, str):\n",
    "            return np.nan\n",
    "        return langdetect.detect(string)\n",
    "    except langdetect.LangDetectException:\n",
    "        return np.nan\n",
    "\n",
    "def clean_text(string):\n",
    "    if not isinstance(string, str):\n",
    "        return np.nan\n",
    "    \n",
    "    s = TextBlob(string.lower())\n",
    "    s = s.words\n",
    "    if len(s) == 0:\n",
    "        return np.nan\n",
    "    return tuple(s)\n",
    "\n",
    "def get_len(x):\n",
    "    if not isinstance(x, tuple):\n",
    "        return 0\n",
    "    return len(x)\n",
    "\n",
    "def in_most_popular(x):\n",
    "    if x in most_popular:\n",
    "        return False\n",
    "    return True"
   ]
  },
  {
   "cell_type": "code",
   "execution_count": null,
   "id": "6ec12d19",
   "metadata": {},
   "outputs": [],
   "source": [
    "worst_df = pd.Series()"
   ]
  },
  {
   "cell_type": "code",
   "execution_count": null,
   "id": "3439b6d6",
   "metadata": {},
   "outputs": [],
   "source": [
    "res_df = pd.DataFrame(columns=['_id', 'lang', 'words_abstract'])"
   ]
  },
  {
   "cell_type": "code",
   "execution_count": null,
   "id": "7938c6cb",
   "metadata": {
    "scrolled": true
   },
   "outputs": [],
   "source": [
    "# Получим наиболее распространенные abstact\n",
    "for i, df in tqdm(enumerate(pd.read_csv('eda/dataset.csv', sep='|', chunksize=100_000, escapechar='\\\\')), total=54):\n",
    "    df.dropna(subset='abstract', inplace=True)\n",
    "    df = df.loc[:, ['_id', 'abstract', 'lang']]\n",
    "    df['words_abstract'] = df.abstract.apply(clean_text)\n",
    "    df.drop('abstract', axis=1, inplace=True)\n",
    "    df.to_csv(f'eda/parts_abstract/{i}', index=False)\n",
    "    del df\n"
   ]
  }
 ],
 "metadata": {
  "kernelspec": {
   "display_name": "Python 3 (ipykernel)",
   "language": "python",
   "name": "python3"
  },
  "language_info": {
   "codemirror_mode": {
    "name": "ipython",
    "version": 3
   },
   "file_extension": ".py",
   "mimetype": "text/x-python",
   "name": "python",
   "nbconvert_exporter": "python",
   "pygments_lexer": "ipython3",
   "version": "3.10.7"
  }
 },
 "nbformat": 4,
 "nbformat_minor": 5
}
